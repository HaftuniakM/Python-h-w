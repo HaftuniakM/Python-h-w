{
 "cells": [
  {
   "cell_type": "code",
   "execution_count": null,
   "metadata": {},
   "outputs": [],
   "source": [
    "#Python homework 1\n",
    "#Хорошая работа! \n",
    "#Если у вас есть известные вам условия на ввод, их лучше потребовать от данных. \n",
    "#Такая проверка убережет вас от скрытых ошибок в расчетах. \n",
    "#Поэтому если по условию есть информация о том, какие данные ожидаются - это нужно проверить в коде. "
   ]
  },
  {
   "cell_type": "code",
   "execution_count": 6,
   "metadata": {},
   "outputs": [
    {
     "name": "stdout",
     "output_type": "stream",
     "text": [
      "Mary 's annual salary is $ 108.0 thousands\n"
     ]
    }
   ],
   "source": [
    "# 1.Запросите у пользователя имя и месячную зарплату в долларах и выведите их годовую зарплату в тысячах долларов.\n",
    "# Например: «Мишель», «12345» → «Годовая зарплата Мишель составляет 148 тыс. долларов».\n",
    "\n",
    "input_name = input('Please, enter the name:')\n",
    "input_salary = 12*(int(input('Please, enter the month salary in $: '))/1000)\n",
    "input_salary\n",
    "print(input_name,\"'s annual salary is $\", input_salary, 'thousands')"
   ]
  },
  {
   "cell_type": "code",
   "execution_count": 11,
   "metadata": {},
   "outputs": [
    {
     "name": "stdout",
     "output_type": "stream",
     "text": [
      "True\n"
     ]
    }
   ],
   "source": [
    "# 2.Запросите целое число и выведите «True», если это четное число в диапазоне от 100 до 999, в противном случае - «False».\n",
    "\n",
    "input_number = int(input('Please enter the whole number:'))\n",
    "\n",
    "if input_number in range(100, 1000) and input_number%2 == 0:\n",
    "    print(True)\n",
    "else:\n",
    "    print(False)"
   ]
  },
  {
   "cell_type": "code",
   "execution_count": 5,
   "metadata": {},
   "outputs": [
    {
     "name": "stdout",
     "output_type": "stream",
     "text": [
      "Reversed number is 652\n"
     ]
    }
   ],
   "source": [
    "# 3.В качестве входящих данных возьмем целое число; \n",
    "# Предположим, что это число от 101 до 999, а его последняя цифра не равна нулю.\n",
    "# Выведите обратное число. Например: 256 → 652.\n",
    "\n",
    "input_numb = int(input('Please, enter the whole number in range 101-999 (in the way that its last digit is not zero):'))\n",
    "reversed_numb = 0\n",
    "\n",
    "while input_numb != 0:\n",
    "    digit = input_numb % 10\n",
    "    reversed_numb = reversed_numb * 10 + digit\n",
    "    input_numb //= 10\n",
    "print('Reversed number is', reversed_numb)"
   ]
  },
  {
   "cell_type": "code",
   "execution_count": 3,
   "metadata": {},
   "outputs": [
    {
     "name": "stdout",
     "output_type": "stream",
     "text": [
      "5\n",
      "1\n",
      "6\n",
      "1.5\n",
      "1\n",
      "True\n"
     ]
    }
   ],
   "source": [
    "# 4.Запросите два целых числа и выведите:\n",
    "# a.Их сумму\n",
    "# b.Их разность\n",
    "# c.Произведение\n",
    "# d.Результат деления первого на второе\n",
    "# e.Остаток от деления первого на второе\n",
    "# f.«True», если первое число больше или равно второму, иначе «False».\n",
    "\n",
    "number_1 = int(input('Please, enter the whole number 1'))\n",
    "number_2 = int(input('Please, enter the whole number 2'))\n",
    "\n",
    "print(number_1 + number_2) # a.addition\n",
    "print(number_1 - number_2) # b.subtraction\n",
    "print(number_1 * number_2) # c.multiplication\n",
    "print(number_1 / number_2) # d.division\n",
    "print(number_1 % number_2) # e.modulo\n",
    "\n",
    "if number_1 >= number_2:   # f.conditions\n",
    "    print(True)\n",
    "else:\n",
    "    print(False)"
   ]
  }
 ],
 "metadata": {
  "kernelspec": {
   "display_name": "Python 3",
   "language": "python",
   "name": "python3"
  },
  "language_info": {
   "codemirror_mode": {
    "name": "ipython",
    "version": 3
   },
   "file_extension": ".py",
   "mimetype": "text/x-python",
   "name": "python",
   "nbconvert_exporter": "python",
   "pygments_lexer": "ipython3",
   "version": "3.10.9 (tags/v3.10.9:1dd9be6, Dec  6 2022, 20:01:21) [MSC v.1934 64 bit (AMD64)]"
  },
  "orig_nbformat": 4,
  "vscode": {
   "interpreter": {
    "hash": "52634da84371cba311ea128a5ea7cdc41ff074b781779e754b270ff9f8153cee"
   }
  }
 },
 "nbformat": 4,
 "nbformat_minor": 2
}

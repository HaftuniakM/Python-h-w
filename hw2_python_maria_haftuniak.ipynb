{
 "cells": [
  {
   "cell_type": "code",
   "execution_count": null,
   "metadata": {},
   "outputs": [],
   "source": [
    "#Python homework 2"
   ]
  },
  {
   "cell_type": "code",
   "execution_count": 20,
   "metadata": {},
   "outputs": [
    {
     "name": "stdout",
     "output_type": "stream",
     "text": [
      "«ham»\n"
     ]
    }
   ],
   "source": [
    "# 1.В качестве входящих данных запросите целое число. \n",
    "# если оно делится на 3, выведите «foo»; \n",
    "# если оно делится на 5, выведите «bar»; \n",
    "# если оно делится на оба, выведите «ham» (а не «foo» или «bar»).\n",
    "\n",
    "input_number = int(input('Please enter an integer:'))\n",
    "\n",
    "if (input_number%3 == 0 and input_number%5 == 0) :\n",
    "    print('«ham»')\n",
    "elif input_number%3 == 0 :\n",
    "    print('«foo»')\n",
    "elif input_number%5 == 0 :\n",
    "    print('«bar»')\n"
   ]
  },
  {
   "cell_type": "code",
   "execution_count": 37,
   "metadata": {},
   "outputs": [
    {
     "name": "stdout",
     "output_type": "stream",
     "text": [
      "Bigger number is\n",
      "3\n",
      "Smaller number is\n",
      "2\n"
     ]
    }
   ],
   "source": [
    "# 2.В качестве входящих данных запросите два числа и выведите какое из них меньше и какое большее.\n",
    "\n",
    "# Option 1\n",
    "input_number_1 = int(input('Please enter an integer 1:'))\n",
    "input_number_2 = int(input('Please enter an integer 2:'))\n",
    "\n",
    "if input_number_1 > input_number_2 :\n",
    "    print ('Bigger number is', input_number_1, 'Smaller number is', input_number_2, sep = '\\n')\n",
    "elif input_number_1 < input_number_2 :\n",
    "    print ('Bigger number is', input_number_2, 'Smaller number is', input_number_1, sep = '\\n')\n",
    "else : \n",
    "    print ('The numbers are equal')\n"
   ]
  },
  {
   "cell_type": "code",
   "execution_count": 38,
   "metadata": {},
   "outputs": [
    {
     "name": "stdout",
     "output_type": "stream",
     "text": [
      "Bigger number is\n",
      "3\n",
      "Smaller number is\n",
      "2\n"
     ]
    }
   ],
   "source": [
    "# 2.В качестве входящих данных запросите два числа и выведите какое из них меньше и какое большее.\n",
    "\n",
    "# Option 2\n",
    "input_number_3 = int(input('Please enter an integer 3:'))\n",
    "input_number_4 = int(input('Please enter an integer 4:'))\n",
    "\n",
    "input_list = [input_number_3, input_number_4]\n",
    "res_max = max(input_list)\n",
    "res_min = min(input_list)\n",
    "\n",
    "print('Bigger number is', res_max, 'Smaller number is', res_min, sep = '\\n')"
   ]
  },
  {
   "cell_type": "code",
   "execution_count": 55,
   "metadata": {},
   "outputs": [
    {
     "name": "stdout",
     "output_type": "stream",
     "text": [
      "Bigger number is\n",
      "50\n",
      "Smaller number is\n",
      "1\n"
     ]
    }
   ],
   "source": [
    "# 2.В качестве входящих данных запросите два числа и выведите какое из них меньше и какое большее.\n",
    "\n",
    "# Option 3\n",
    "input_number_5 = int(input('Please enter an integer 5:'))\n",
    "input_number_6 = int(input('Please enter an integer 6:'))\n",
    "\n",
    "input_list = [input_number_5, input_number_6]\n",
    "sorted_list = sorted(input_list)\n",
    "\n",
    "print('Bigger number is', sorted_list[1], 'Smaller number is', sorted_list[0], sep = '\\n')"
   ]
  },
  {
   "cell_type": "code",
   "execution_count": 53,
   "metadata": {},
   "outputs": [
    {
     "name": "stdout",
     "output_type": "stream",
     "text": [
      "The smallest number is \n",
      "5\n",
      "The average number is\n",
      "8\n",
      "The largest number is\n",
      "50\n"
     ]
    }
   ],
   "source": [
    "# 3.В качестве входящих данных запросите три числа и выведите наименьшее, среднее и наибольшее. Предположим, все они разные.\n",
    "\n",
    "input_numb_1 = int(input('Please enter an integer 1:'))\n",
    "input_numb_2 = int(input('Please enter an integer 2:'))\n",
    "input_numb_3 = int(input('Please enter an integer 3:'))\n",
    "\n",
    "input_result = [input_numb_1, input_numb_2, input_numb_3]\n",
    "\n",
    "sorted_result = sorted(input_result)\n",
    "\n",
    "print('The smallest number is ', sorted_result[0], \n",
    "      'The average number is', sorted_result[1],  \n",
    "      'The largest number is', sorted_result[2], \n",
    "       sep = '\\n')\n"
   ]
  },
  {
   "cell_type": "code",
   "execution_count": null,
   "metadata": {},
   "outputs": [],
   "source": [
    "#Дополнительные задания повышенной сложности"
   ]
  },
  {
   "cell_type": "code",
   "execution_count": 65,
   "metadata": {},
   "outputs": [],
   "source": [
    "#4. Прочтите это объяснение list slicing."
   ]
  },
  {
   "cell_type": "code",
   "execution_count": 73,
   "metadata": {},
   "outputs": [
    {
     "name": "stdout",
     "output_type": "stream",
     "text": [
      "1\n",
      "2\n",
      "«fizz»\n",
      "4\n",
      "«buzz»\n",
      "«fizz»\n",
      "7\n",
      "8\n",
      "«fizz»\n",
      "«buzz»\n",
      "11\n",
      "«fizz»\n",
      "13\n",
      "14\n",
      "«fizz buzz»\n",
      "16\n",
      "17\n",
      "«fizz»\n",
      "19\n",
      "«buzz»\n",
      "«fizz»\n",
      "22\n",
      "23\n",
      "«fizz»\n",
      "«buzz»\n",
      "26\n",
      "«fizz»\n",
      "28\n",
      "29\n",
      "«fizz buzz»\n",
      "31\n",
      "32\n",
      "«fizz»\n",
      "34\n",
      "«buzz»\n",
      "«fizz»\n",
      "37\n",
      "38\n",
      "«fizz»\n",
      "«buzz»\n",
      "41\n",
      "«fizz»\n",
      "43\n",
      "44\n",
      "«fizz buzz»\n",
      "46\n",
      "47\n",
      "«fizz»\n",
      "49\n",
      "«buzz»\n",
      "«fizz»\n",
      "52\n",
      "53\n",
      "«fizz»\n",
      "«buzz»\n",
      "56\n",
      "«fizz»\n",
      "58\n",
      "59\n",
      "«fizz buzz»\n",
      "61\n",
      "62\n",
      "«fizz»\n",
      "64\n",
      "«buzz»\n",
      "«fizz»\n",
      "67\n",
      "68\n",
      "«fizz»\n",
      "«buzz»\n",
      "71\n",
      "«fizz»\n",
      "73\n",
      "74\n",
      "«fizz buzz»\n",
      "76\n",
      "77\n",
      "«fizz»\n",
      "79\n",
      "«buzz»\n",
      "«fizz»\n",
      "82\n",
      "83\n",
      "«fizz»\n",
      "«buzz»\n",
      "86\n",
      "«fizz»\n",
      "88\n",
      "89\n",
      "«fizz buzz»\n",
      "91\n",
      "92\n",
      "«fizz»\n",
      "94\n",
      "«buzz»\n",
      "«fizz»\n",
      "97\n",
      "98\n",
      "«fizz»\n",
      "«buzz»\n"
     ]
    }
   ],
   "source": [
    "#5. Сыграйте в игру Fizz-Buzz: выведите все числа от 1 до 100; \n",
    "# если число делится на 3, вместо числа выведите «fizz». \n",
    "# если оно делится на 5, вместо числа выведите «buzz». \n",
    "# если оно делится на оба, выведите «fizz buzz» вместо числа.\n",
    "\n",
    "for i in range(1, 101):\n",
    "    if i % 3 == 0 and i % 5 == 0:\n",
    "        print ('«fizz buzz»')\n",
    "    elif i % 3 == 0:\n",
    "        print ('«fizz»')\n",
    "    elif i % 5 == 0:\n",
    "        print ('«buzz»')\n",
    "    else:\n",
    "        print (i)\n"
   ]
  },
  {
   "cell_type": "code",
   "execution_count": 77,
   "metadata": {},
   "outputs": [
    {
     "name": "stdout",
     "output_type": "stream",
     "text": [
      "1\n",
      "2\n",
      "3\n",
      "4\n",
      "5\n",
      "6\n",
      "«BOOM»\n",
      "8\n",
      "9\n",
      "10\n",
      "11\n",
      "12\n",
      "13\n",
      "«BOOM»\n",
      "15\n",
      "16\n",
      "«BOOM»\n",
      "18\n",
      "19\n",
      "20\n",
      "«BOOM»\n",
      "22\n",
      "23\n",
      "24\n",
      "25\n",
      "26\n",
      "«BOOM»\n",
      "«BOOM»\n",
      "29\n",
      "30\n",
      "31\n",
      "32\n",
      "33\n",
      "34\n",
      "«BOOM»\n",
      "36\n",
      "«BOOM»\n",
      "38\n",
      "39\n",
      "40\n",
      "41\n",
      "«BOOM»\n",
      "43\n",
      "44\n",
      "45\n",
      "46\n",
      "«BOOM»\n",
      "48\n",
      "«BOOM»\n",
      "50\n",
      "51\n",
      "52\n",
      "53\n",
      "54\n",
      "55\n",
      "«BOOM»\n",
      "«BOOM»\n",
      "58\n",
      "59\n",
      "60\n",
      "61\n",
      "62\n",
      "«BOOM»\n",
      "64\n",
      "65\n",
      "66\n",
      "«BOOM»\n",
      "68\n",
      "69\n",
      "«BOOM»\n",
      "«BOOM»\n",
      "«BOOM»\n",
      "«BOOM»\n",
      "«BOOM»\n",
      "«BOOM»\n",
      "«BOOM»\n",
      "«BOOM»\n",
      "«BOOM»\n",
      "«BOOM»\n",
      "80\n",
      "81\n",
      "82\n",
      "83\n",
      "«BOOM»\n",
      "85\n",
      "86\n",
      "«BOOM»\n",
      "88\n",
      "89\n",
      "90\n",
      "«BOOM»\n",
      "92\n",
      "93\n",
      "94\n",
      "95\n",
      "96\n",
      "«BOOM»\n",
      "«BOOM»\n",
      "99\n",
      "100\n"
     ]
    }
   ],
   "source": [
    "#6. Сыграйте в игру 7-boom: выведите все числа от 1 до 100; если число делится на 7 или содержит цифру 7, выведите «BOOM» вместо числа.\n",
    "\n",
    "for x in range(1, 101):\n",
    "    if x % 7 == 0 or '7' in str(x) :\n",
    "        print('«BOOM»')\n",
    "    else :\n",
    "       print(x) "
   ]
  }
 ],
 "metadata": {
  "kernelspec": {
   "display_name": "pyt1",
   "language": "python",
   "name": "python3"
  },
  "language_info": {
   "codemirror_mode": {
    "name": "ipython",
    "version": 3
   },
   "file_extension": ".py",
   "mimetype": "text/x-python",
   "name": "python",
   "nbconvert_exporter": "python",
   "pygments_lexer": "ipython3",
   "version": "3.10.8"
  },
  "orig_nbformat": 4,
  "vscode": {
   "interpreter": {
    "hash": "d576c1488a5a338faedd0dba2564974e4eb76508ebe0bd321dcc28c3aef0dd4f"
   }
  }
 },
 "nbformat": 4,
 "nbformat_minor": 2
}

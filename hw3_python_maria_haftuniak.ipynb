{
 "cells": [
  {
   "cell_type": "code",
   "execution_count": null,
   "metadata": {},
   "outputs": [],
   "source": [
    "# Python homework 3"
   ]
  },
  {
   "cell_type": "code",
   "execution_count": 1,
   "metadata": {},
   "outputs": [],
   "source": [
    "# 1. В классе профессора Грубла только что был экзамен. \n",
    "# Напишите программу, которая принимает в качестве входящих данных оценку каждого ученика и то, сдал ли он экзамен. \n",
    "# Затем программе необходимо напечатать две вещи:\n",
    "# a. Был ли профессор Грубл последовательным в проставлении отметки “Passed” для студентов.\n",
    "# b. Если профессор Грубл был последовательным, выведите диапазон, в котором находится порог для сдачи экзамена."
   ]
  },
  {
   "cell_type": "code",
   "execution_count": null,
   "metadata": {},
   "outputs": [],
   "source": [
    "# !!! \n",
    "# Інформація для викладача: \n",
    "# - нижче наведено 2 варіанти реалізації даного завдання. \n",
    "# - мною було задано обмеження (оцінювання з 4 оцінок, з яких 25% (тобто 1 результат) = 'Failed). \n",
    "# - припускаю, що логіка побудови коду є складною і заплутаною. \n",
    "# - Прошу із зрозумінням поставитись і підказати, яким чином було б коректно це зробити і не обмежувати кількість. Дякую!"
   ]
  },
  {
   "cell_type": "code",
   "execution_count": 14,
   "metadata": {},
   "outputs": [
    {
     "name": "stdout",
     "output_type": "stream",
     "text": [
      "Professor Grubl was inconsistent in marking \"Passed\" for the students\n"
     ]
    }
   ],
   "source": [
    "#Оцінювання припускає, що з 4 оцінок, 25% (тобто 1 результат) повинен бути зі статусом Failed\n",
    "results_list = []\n",
    "\n",
    "for i in range(4):\n",
    "    results_list.append(int(input(\"Please, enter the student's grade: \")))\n",
    "    results_list.append(input(\"Please, enter the exam result: \"))\n",
    "\n",
    "n = results_list.index('Failed') - 1   #індекс оцінки, результат якої Failed\n",
    "m = results_list[n]                    #оцінка, результат якої Failed\n",
    "grades_l = sorted(results_list[0:8:2]) #відсортований список оцінок\n",
    "\n",
    "if m > results_list[0] or m > results_list[2] or m > results_list[4] or m > results_list[6]:\n",
    "    print('Professor Grubl was inconsistent in marking \"Passed\" for the students')\n",
    "else:\n",
    "    print(f'The grades range for the passed exam is from {grades_l[1]} to {grades_l[-1]}')"
   ]
  },
  {
   "cell_type": "code",
   "execution_count": 16,
   "metadata": {},
   "outputs": [
    {
     "name": "stdout",
     "output_type": "stream",
     "text": [
      "Professor Grubl was inconsistent in marking \"Passed\" for the students\n"
     ]
    }
   ],
   "source": [
    "#Оцінювання припускає, що з 4 оцінок, 25% (тобто 1 результат) повинен бути зі статусом Failed\n",
    "grades_list = []\n",
    "results_list = []\n",
    "\n",
    "for i in range(4):\n",
    "    grades_list.append(int(input(\"Please, enter the student's grade: \")))\n",
    "    results_list.append(input(\"Please, enter the exam result: \"))\n",
    "\n",
    "zipped_list = list(zip(grades_list, results_list))\n",
    "sorted_list = sorted(zipped_list, key = lambda x : x[0])\n",
    "\n",
    "if sorted_list[0][1] != 'Failed':\n",
    "    print('Professor Grubl was inconsistent in marking \"Passed\" for the students')\n",
    "else:\n",
    "    print(f'The grades range for the passed exam is from {sorted_list[1][0]} to {sorted_list[-1][0]}')"
   ]
  },
  {
   "cell_type": "code",
   "execution_count": null,
   "metadata": {},
   "outputs": [],
   "source": [
    "# BI 8\n"
   ]
  }
 ],
 "metadata": {
  "kernelspec": {
   "display_name": "pyt1",
   "language": "python",
   "name": "python3"
  },
  "language_info": {
   "codemirror_mode": {
    "name": "ipython",
    "version": 3
   },
   "file_extension": ".py",
   "mimetype": "text/x-python",
   "name": "python",
   "nbconvert_exporter": "python",
   "pygments_lexer": "ipython3",
   "version": "3.10.8"
  },
  "orig_nbformat": 4,
  "vscode": {
   "interpreter": {
    "hash": "d576c1488a5a338faedd0dba2564974e4eb76508ebe0bd321dcc28c3aef0dd4f"
   }
  }
 },
 "nbformat": 4,
 "nbformat_minor": 2
}

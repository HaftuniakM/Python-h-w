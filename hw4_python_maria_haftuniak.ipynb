{
 "cells": [
  {
   "cell_type": "code",
   "execution_count": null,
   "metadata": {},
   "outputs": [],
   "source": [
    "# Python homework 4"
   ]
  },
  {
   "cell_type": "code",
   "execution_count": null,
   "metadata": {},
   "outputs": [],
   "source": [
    "# Обращаюсь к некоторым важным базовым знаниям :)\n",
    "# 1.Прочтите официальную спецификацию формата и примеры\n",
    "# 2.Прочтите документацию по формату дата и время\n",
    "# 3.Прочтите этот раздел руководства по Python.\n",
    "# 4.Используйте   модуль   времени,   чтобы   сравнить   производительность «эффективного»  метода  поиска  простых  чисел  \n",
    "# с  простой  реализацией  (без перерывов, тестирования по всем числам и т.д.). \n",
    "# Проверьте несколько диапазонов поиска простых чисел (например, до 100, до 1000 и т. д.)"
   ]
  },
  {
   "cell_type": "code",
   "execution_count": 5,
   "metadata": {},
   "outputs": [],
   "source": [
    "#Функція генерації простих чисел - варіант 1\n",
    "def simple_numbers_1(n):\n",
    "    lst = []\n",
    "    k = 0\n",
    "    for i in range(2, n):\n",
    "        for j in range(2, i):\n",
    "            if i % j == 0:\n",
    "                k = k + 1\n",
    "        if k == 0:\n",
    "            lst.append(i)\n",
    "        else:\n",
    "            k = 0\n",
    "    return lst"
   ]
  },
  {
   "cell_type": "code",
   "execution_count": 3,
   "metadata": {},
   "outputs": [],
   "source": [
    "#Функція генерації простих чисел - варіант 2\n",
    "def simple_numbers_2(n):\n",
    "    lst_2 = []\n",
    "    for i in range (2,201):\n",
    "        for j in range (2,i):\n",
    "            if i%j ==0: #виключення парних чисел (всі парні числа непрості окрім 2)\n",
    "                break\n",
    "        else:\n",
    "            lst_2.append(i)\n",
    "    return lst_2"
   ]
  },
  {
   "cell_type": "code",
   "execution_count": 10,
   "metadata": {},
   "outputs": [
    {
     "name": "stdout",
     "output_type": "stream",
     "text": [
      "[2, 3, 5, 7, 11, 13, 17, 19, 23, 29, 31, 37, 41, 43, 47, 53, 59, 61, 67, 71, 73, 79, 83, 89, 97, 101]\n"
     ]
    }
   ],
   "source": [
    "#Функція генерації простих чисел - варіант 3 (Решето Ератосфена) \n",
    "def eratosthenes(n):\n",
    "    \"\"\"\"Решето Ератосфена\"\"\"\n",
    "    B = [True] * int(n+1)\n",
    "    if n >=2:\n",
    "        B[0] = B[1] = False\n",
    "        my_primes = [2]\n",
    "        j=2\n",
    "        for ind in range(2*j, n+1, j):\n",
    "            B[ind] = False\n",
    "    else:\n",
    "        my_primes = []\n",
    "        return my_primes\n",
    "    for i in range(3, n+1):\n",
    "        if B[i]:\n",
    "            my_primes.append(i)\n",
    "            for j in range(2*i, n+1, i):\n",
    "                B[j] = False\n",
    "    return my_primes\n",
    "print(eratosthenes(101))"
   ]
  },
  {
   "cell_type": "code",
   "execution_count": 8,
   "metadata": {},
   "outputs": [],
   "source": [
    "import time\n",
    "#Функція для розрахунку швидкості виконання функції у секундах\n",
    "def timeit(func, *args):\n",
    "    time_start = time.time()\n",
    "    res = simple_numbers(*args)\n",
    "    time_end = time.time()\n",
    "\n",
    "    return(time_end - time_start) * 1000.0, res"
   ]
  },
  {
   "cell_type": "code",
   "execution_count": 11,
   "metadata": {},
   "outputs": [
    {
     "name": "stdout",
     "output_type": "stream",
     "text": [
      "[100, 0.0, 0.0, 0.9877681732177734]\n",
      "[1000, 19.932270050048828, 22.000551223754883, 20.942211151123047]\n",
      "[10000, 2270.4060077667236, 2349.057674407959, 2128.959894180298]\n"
     ]
    }
   ],
   "source": [
    "res = []\n",
    "for i in (100, 1000, 10000):\n",
    "    res.append([i, \n",
    "                timeit(simple_numbers_1, i)[0],\n",
    "                timeit(simple_numbers_2, i)[0],\n",
    "                timeit(eratosthenes, i)[0]                  \n",
    "                ])\n",
    "print(*res, sep='\\n') "
   ]
  }
 ],
 "metadata": {
  "kernelspec": {
   "display_name": "pyt1",
   "language": "python",
   "name": "python3"
  },
  "language_info": {
   "codemirror_mode": {
    "name": "ipython",
    "version": 3
   },
   "file_extension": ".py",
   "mimetype": "text/x-python",
   "name": "python",
   "nbconvert_exporter": "python",
   "pygments_lexer": "ipython3",
   "version": "3.10.8"
  },
  "orig_nbformat": 4,
  "vscode": {
   "interpreter": {
    "hash": "d576c1488a5a338faedd0dba2564974e4eb76508ebe0bd321dcc28c3aef0dd4f"
   }
  }
 },
 "nbformat": 4,
 "nbformat_minor": 2
}

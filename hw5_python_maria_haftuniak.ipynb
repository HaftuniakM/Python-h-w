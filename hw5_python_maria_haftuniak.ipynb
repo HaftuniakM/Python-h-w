{
 "cells": [
  {
   "cell_type": "code",
   "execution_count": null,
   "metadata": {},
   "outputs": [],
   "source": [
    "# Python homework 5 by Maria Haftuniak \n",
    "# Анализ рыночной корзины"
   ]
  },
  {
   "cell_type": "code",
   "execution_count": null,
   "metadata": {},
   "outputs": [],
   "source": [
    "# Инструкции и руководство\n",
    "# 1. Сначала напишите код для чтения и анализа данных заказа - разделение заказов по строкам и продуктов по «@@@».\n",
    "# 2. Затем напишите код для расчета поддержки и уверенности для каждой пары продуктов.\n",
    "# a. Создайте два словаря - один для подсчета каждого продукта и один для подсчета каждой пары продуктов.\n",
    "# b. Переберите все заказы и обновите два словаря для каждого заказа по мере необходимости.\n",
    "# c. Словарь подсчета пар содержит поддержку каждой пары элементов.\n",
    "# d. Используйте два словаря, чтобы рассчитать уверенность для каждой пары элементов.\n",
    "# e. Обратите внимание, что поддержка симметрична, а уверенность - нет. \n",
    "# Например, если есть 100 заказов с “bananas”, 200 заказов с «peanut butter» и 30 заказов с обоими, \n",
    "# тогда уверенность bananas => peanut butter составляет 30%, тогда как уверенность peanut butter => bananas - 15 %.\n",
    "# f. Помните, что нельзя рассчитывать уверенность продукта в себе (она всегда будет 100%, но это не интересно).\n",
    "# g. Наконец, учитывая минимальные требования к уверенности и поддержке, \n",
    "# переберите все пары продуктов и напечатайте пары, соответствующие критериям, в следующем формате: \n",
    "# Chunky Guacamole => Organic Tortilla Chips (5.37% confidence), 38 support"
   ]
  },
  {
   "cell_type": "code",
   "execution_count": 1,
   "metadata": {},
   "outputs": [],
   "source": [
    "file = open('orders.txt', \"r\") \n",
    "data = file.read().split('\\n\\n')\n",
    "\n",
    "new_data = []\n",
    "\n",
    "for x in data:\n",
    "    new_data.append(x.split('@@@'))"
   ]
  },
  {
   "cell_type": "code",
   "execution_count": 6,
   "metadata": {},
   "outputs": [
    {
     "name": "stdout",
     "output_type": "stream",
     "text": [
      "200\n"
     ]
    }
   ],
   "source": [
    "# Функція для створення списку з унікальними продуктами в розрізі всіх замовлень\n",
    "def unique_values(new_data):\n",
    "    result = set(x for l in new_data for x in l)\n",
    "    return list(result)\n",
    "\n",
    "# Обмежую кількість значень з якими в подальшому працюватиму (для швидкості розрахунку):\n",
    "unique_data = unique_values(new_data[0:20])\n",
    "# Кількість унікальних продуктів для подальшої роботи складає 200 шт.:\n",
    "print(unique_data.__len__())"
   ]
  },
  {
   "cell_type": "code",
   "execution_count": 8,
   "metadata": {},
   "outputs": [
    {
     "name": "stdout",
     "output_type": "stream",
     "text": [
      "[('Pure Irish Butter', 'Natural Chicken & Sage Breakfast Sausage'), ('Pure Irish Butter', 'Organic Chocolate Almondmilk Pudding'), ('Pure Irish Butter', 'Organic Orange Juice With Calcium & Vitamin D')]\n",
      "39800\n"
     ]
    }
   ],
   "source": [
    "# Формую комбінації продуктів:\n",
    "from itertools import permutations\n",
    "# Використовую permutations, щоб врахувати всі комбінації, зокрема наприклад Cucumber Kirby => Banana і Banana => Cucumber Kirby\n",
    "l_combinations = list(permutations(unique_data, 2))\n",
    "\n",
    "# Демонструю який вигляд мають комбінації:\n",
    "print(l_combinations[0:3])\n",
    "\n",
    "# Кількість комбінацій для подальшої роботи складає 39800 шт.:\n",
    "print(l_combinations.__len__())"
   ]
  },
  {
   "cell_type": "code",
   "execution_count": 17,
   "metadata": {},
   "outputs": [],
   "source": [
    "# Функція для обчислення підтримки:\n",
    "def get_support(p1, p2):\n",
    "    support = 0\n",
    "    for x in new_data:\n",
    "        if p1 in x and p2 in x:\n",
    "            support += 1\n",
    "    return support #int\n",
    "\n",
    "# Функція для обчислення впевненості:\n",
    "def get_confidence(p1, p2):\n",
    "    only_p1 = 0\n",
    "    for x in new_data:\n",
    "        if p1 in x:\n",
    "            only_p1 += x.count(p1)\n",
    "\n",
    "    p1_and_p2 = get_support(p1, p2)\n",
    "    confidence = round(p1_and_p2 / only_p1, 2)\n",
    "    return confidence #float (from 0 to 1)\n",
    "\n",
    "# Функція для отримання комбінацій продуктів, які відповідають заданим вимогам щодо показників впевненості тп підтримки:\n",
    "def get_result(confidence, support):\n",
    "    for x in range(l_combinations.__len__()):\n",
    "        if get_confidence(l_combinations[x][0], l_combinations[x][1]) >= confidence and get_support(l_combinations[x][0], l_combinations[x][1]) >= support:\n",
    "                calculated_confidence = get_confidence(l_combinations[x][0], l_combinations[x][1])\n",
    "                calculated_support = get_support(l_combinations[x][0], l_combinations[x][1])\n",
    "                print(f'{l_combinations[x][0]} => {l_combinations[x][1]} ({calculated_confidence*100}% confidence), {calculated_support} support')"
   ]
  },
  {
   "cell_type": "code",
   "execution_count": 20,
   "metadata": {},
   "outputs": [
    {
     "name": "stdout",
     "output_type": "stream",
     "text": [
      "Organic Raspberries => Bag of Organic Bananas (32.0% confidence), 1780 support\n",
      "Organic Raspberries => Organic Strawberries (30.0% confidence), 1670 support\n",
      "Cucumber Kirby => Banana (31.0% confidence), 743 support\n",
      "Organic Lemon => Bag of Organic Bananas (30.0% confidence), 1067 support\n",
      "Honeycrisp Apple => Banana (35.0% confidence), 1231 support\n",
      "Broccoli Crown => Banana (32.0% confidence), 925 support\n",
      "Strawberries => Banana (30.0% confidence), 1948 support\n",
      "Organic Hass Avocado => Bag of Organic Bananas (33.0% confidence), 2420 support\n",
      "Unsweetened Original Almond Breeze Almond Milk => Banana (30.0% confidence), 437 support\n",
      "Blueberries => Banana (31.0% confidence), 716 support\n",
      "Granny Smith Apples => Banana (31.0% confidence), 434 support\n",
      "Clementines, Bag => Banana (32.0% confidence), 466 support\n"
     ]
    }
   ],
   "source": [
    "get_result(0.3, 400) "
   ]
  },
  {
   "cell_type": "code",
   "execution_count": 19,
   "metadata": {},
   "outputs": [
    {
     "name": "stdout",
     "output_type": "stream",
     "text": [
      "32.0\n",
      "1780\n",
      "30.0\n",
      "1670\n"
     ]
    }
   ],
   "source": [
    "# Перевірка коректності роботи функції get_result на прикладі перших 2х отриманих комбінацій продуктів:\n",
    "print(get_confidence('Organic Raspberries', 'Bag of Organic Bananas')*100,\n",
    "         get_support('Organic Raspberries', 'Bag of Organic Bananas'), sep = '\\n')\n",
    "\n",
    "print(get_confidence('Organic Raspberries', 'Organic Strawberries')*100,\n",
    "      get_support('Organic Raspberries', 'Organic Strawberries'), sep = '\\n')"
   ]
  }
 ],
 "metadata": {
  "kernelspec": {
   "display_name": "pyt1",
   "language": "python",
   "name": "python3"
  },
  "language_info": {
   "codemirror_mode": {
    "name": "ipython",
    "version": 3
   },
   "file_extension": ".py",
   "mimetype": "text/x-python",
   "name": "python",
   "nbconvert_exporter": "python",
   "pygments_lexer": "ipython3",
   "version": "3.10.8"
  },
  "orig_nbformat": 4,
  "vscode": {
   "interpreter": {
    "hash": "d576c1488a5a338faedd0dba2564974e4eb76508ebe0bd321dcc28c3aef0dd4f"
   }
  }
 },
 "nbformat": 4,
 "nbformat_minor": 2
}
